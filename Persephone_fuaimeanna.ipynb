{
  "nbformat": 4,
  "nbformat_minor": 0,
  "metadata": {
    "colab": {
      "name": "Persephone fuaimeanna.ipynb",
      "provenance": [],
      "collapsed_sections": [],
      "include_colab_link": true
    },
    "kernelspec": {
      "name": "python3",
      "display_name": "Python 3"
    },
    "accelerator": "GPU"
  },
  "cells": [
    {
      "cell_type": "markdown",
      "metadata": {
        "id": "view-in-github",
        "colab_type": "text"
      },
      "source": [
        "<a href=\"https://colab.research.google.com/github/jimregan/irish-asr-data/blob/master/Persephone_fuaimeanna.ipynb\" target=\"_parent\"><img src=\"https://colab.research.google.com/assets/colab-badge.svg\" alt=\"Open In Colab\"/></a>"
      ]
    },
    {
      "cell_type": "code",
      "metadata": {
        "id": "mvc_y6yCc6-c",
        "colab_type": "code",
        "outputId": "1f661f07-0597-4b77-babe-80ee040f4a40",
        "colab": {
          "base_uri": "https://localhost:8080/",
          "height": 102
        }
      },
      "source": [
        "!git clone https://github.com/jimregan/irish-asr-data"
      ],
      "execution_count": 0,
      "outputs": [
        {
          "output_type": "stream",
          "text": [
            "Cloning into 'irish-asr-data'...\n",
            "remote: Enumerating objects: 971, done.\u001b[K\n",
            "remote: Total 971 (delta 0), reused 0 (delta 0), pack-reused 971\u001b[K\n",
            "Receiving objects: 100% (971/971), 5.51 MiB | 7.46 MiB/s, done.\n",
            "Resolving deltas: 100% (520/520), done.\n"
          ],
          "name": "stdout"
        }
      ]
    },
    {
      "cell_type": "code",
      "metadata": {
        "id": "dHoXLI2hddJU",
        "colab_type": "code",
        "colab": {}
      },
      "source": [
        "!mkdir fuaimeanna\n",
        "import os\n",
        "os.chdir('/content/fuaimeanna')"
      ],
      "execution_count": 0,
      "outputs": []
    },
    {
      "cell_type": "code",
      "metadata": {
        "id": "oFn1Gurgdtpb",
        "colab_type": "code",
        "colab": {}
      },
      "source": [
        "!yes|cpan URI Web::Scraper"
      ],
      "execution_count": 0,
      "outputs": []
    },
    {
      "cell_type": "code",
      "metadata": {
        "id": "rzmOh0J5fxNZ",
        "colab_type": "code",
        "colab": {}
      },
      "source": [
        "!mkdir label"
      ],
      "execution_count": 0,
      "outputs": []
    },
    {
      "cell_type": "code",
      "metadata": {
        "id": "zD8cuvmLdilA",
        "colab_type": "code",
        "colab": {}
      },
      "source": [
        "!perl ../irish-asr-data/scripts/fuaimeanna.pl"
      ],
      "execution_count": 0,
      "outputs": []
    },
    {
      "cell_type": "code",
      "metadata": {
        "id": "KCCioaFLgPLL",
        "colab_type": "code",
        "colab": {}
      },
      "source": [
        "!sh run-wget.sh > run-wget.out && sh run-ffmpeg.sh > run-ffmpeg.out"
      ],
      "execution_count": 0,
      "outputs": []
    },
    {
      "cell_type": "code",
      "metadata": {
        "id": "qs9Vkf6qm7Hc",
        "colab_type": "code",
        "colab": {}
      },
      "source": [
        "import os\n",
        "os.chdir('/content')"
      ],
      "execution_count": 0,
      "outputs": []
    },
    {
      "cell_type": "code",
      "metadata": {
        "id": "LA0VaQa6x0SP",
        "colab_type": "code",
        "colab": {}
      },
      "source": [
        "!pip uninstall -y nltk\n",
        "!pip install nltk persephone\n"
      ],
      "execution_count": 0,
      "outputs": []
    },
    {
      "cell_type": "code",
      "metadata": {
        "id": "CyFpofdOkXaS",
        "colab_type": "code",
        "colab": {}
      },
      "source": [
        "from persephone import experiment\n",
        "from persephone import corpus\n",
        "corp = corpus.Corpus(\"fbank\", \"phones\", \"fuaimeanna\")\n",
        "experiment.train_ready(corp)"
      ],
      "execution_count": 0,
      "outputs": []
    },
    {
      "cell_type": "code",
      "metadata": {
        "id": "eeb-_Yn7IVcB",
        "colab_type": "code",
        "colab": {}
      },
      "source": [
        "!find exp -type f|zip exp.zip -@"
      ],
      "execution_count": 0,
      "outputs": []
    }
  ]
}